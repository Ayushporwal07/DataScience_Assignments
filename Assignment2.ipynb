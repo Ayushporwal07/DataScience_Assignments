{
 "cells": [
  {
   "cell_type": "code",
   "execution_count": 2,
   "id": "a7fcd905",
   "metadata": {},
   "outputs": [],
   "source": [
    "Scores=[35,50,20,30,55,75,90,95,66,80,67]"
   ]
  },
  {
   "cell_type": "code",
   "execution_count": 3,
   "id": "00a651d6",
   "metadata": {},
   "outputs": [
    {
     "name": "stdout",
     "output_type": "stream",
     "text": [
      "[35, 50, 20, 30, 55, 75, 90, 95, 66, 80, 67]\n"
     ]
    }
   ],
   "source": [
    "num=Scores[0:11]\n",
    "print(num)"
   ]
  },
  {
   "cell_type": "code",
   "execution_count": 4,
   "id": "b84ae898",
   "metadata": {},
   "outputs": [
    {
     "name": "stdout",
     "output_type": "stream",
     "text": [
      "First Class\n",
      "First Class\n"
     ]
    }
   ],
   "source": [
    "for num in Scores:\n",
    "    if num>60 and num<70:\n",
    "        print(\"First Class\")"
   ]
  },
  {
   "cell_type": "code",
   "execution_count": 5,
   "id": "25e27fd0",
   "metadata": {},
   "outputs": [
    {
     "name": "stdout",
     "output_type": "stream",
     "text": [
      "Distinction\n",
      "Distinction\n",
      "Distinction\n",
      "Distinction\n"
     ]
    }
   ],
   "source": [
    "for num in Scores:\n",
    "    if num>70:\n",
    "        print(\"Distinction\")"
   ]
  },
  {
   "cell_type": "code",
   "execution_count": 40,
   "id": "ca04dd1f",
   "metadata": {},
   "outputs": [
    {
     "name": "stdout",
     "output_type": "stream",
     "text": [
      "Just Pass\n",
      "Just Pass\n"
     ]
    }
   ],
   "source": [
    "for num in Scores:\n",
    "    if num>=35 and num<=50:\n",
    "        print(\"Just Pass\")\n"
   ]
  },
  {
   "cell_type": "code",
   "execution_count": 6,
   "id": "192e1449",
   "metadata": {},
   "outputs": [
    {
     "name": "stdout",
     "output_type": "stream",
     "text": [
      "Second Class\n",
      "Second Class\n"
     ]
    }
   ],
   "source": [
    "for num in Scores:\n",
    "    if num>=50 and num<=60:\n",
    "        print(\"Second Class\")"
   ]
  },
  {
   "cell_type": "code",
   "execution_count": 41,
   "id": "8d9475a1",
   "metadata": {},
   "outputs": [
    {
     "name": "stdout",
     "output_type": "stream",
     "text": [
      "Fail\n",
      "Fail\n",
      "Fail\n"
     ]
    }
   ],
   "source": [
    "for num in Scores:\n",
    "    if num<50:\n",
    "        print(\"Fail\")\n",
    "\n",
    "\n"
   ]
  },
  {
   "cell_type": "code",
   "execution_count": 43,
   "id": "2a0f4358",
   "metadata": {},
   "outputs": [
    {
     "name": "stdout",
     "output_type": "stream",
     "text": [
      "Python\n",
      "Web_Tech\n",
      "IT\n"
     ]
    }
   ],
   "source": [
    "i= {'Python':600, 'Java': 400, 'Web_Tech':550, 'OS': 450, 'IT': 700}\n",
    "for x,y in i.items():\n",
    "    if y>500:\n",
    "        print(x)\n",
    "        "
   ]
  },
  {
   "cell_type": "code",
   "execution_count": 2,
   "id": "5ecff73e",
   "metadata": {},
   "outputs": [
    {
     "name": "stdout",
     "output_type": "stream",
     "text": [
      "[1, 4, 9, 16, 25, 36, 49]\n"
     ]
    }
   ],
   "source": [
    "l = list()\n",
    "for i in range(1,8):\n",
    "    l.append(i**2)\n",
    "print(l)"
   ]
  },
  {
   "cell_type": "code",
   "execution_count": 17,
   "id": "458b39a9",
   "metadata": {},
   "outputs": [
    {
     "name": "stdout",
     "output_type": "stream",
     "text": [
      "['Hello Dear', 'Hello Sir', 'take Dear', 'take Sir']\n"
     ]
    }
   ],
   "source": [
    "list1 = [\"Hello \", \"take \"]\n",
    "list2 = [\"Dear\", \"Sir\"]\n",
    "\n",
    "res = [x + y for x in list1 for y in list2]\n",
    "print(res)"
   ]
  },
  {
   "cell_type": "code",
   "execution_count": 19,
   "id": "62f2b474",
   "metadata": {},
   "outputs": [
    {
     "name": "stdout",
     "output_type": "stream",
     "text": [
      "[500, 400, 300, 200, 100]\n"
     ]
    }
   ],
   "source": [
    "aLsit = [100, 200, 300, 400, 500]\n",
    "aLsit.reverse()\n",
    "print(aLsit)"
   ]
  },
  {
   "cell_type": "code",
   "execution_count": 20,
   "id": "d0f52b04",
   "metadata": {},
   "outputs": [
    {
     "name": "stdout",
     "output_type": "stream",
     "text": [
      "[10, 20, [300, 400, [5000, 6000, 7000], 500], 30, 40]\n"
     ]
    }
   ],
   "source": [
    "#Add item 7000 after 6000 in the following Python List\n",
    "list1 = [10, 20, [300, 400, [5000, 6000], 500], 30, 40]\n",
    "list1[2][2].append(7000)\n",
    "print(list1)\n",
    "\n"
   ]
  },
  {
   "cell_type": "code",
   "execution_count": 24,
   "id": "9506b87c",
   "metadata": {},
   "outputs": [
    {
     "name": "stdout",
     "output_type": "stream",
     "text": [
      "['a', 'b', ['c', ['d', 'e', ['f', 'g', 'h', 'i', 'j'], 'k'], 'l'], 'm', 'n']\n"
     ]
    }
   ],
   "source": [
    "list1 = [\"a\", \"b\", [\"c\", [\"d\", \"e\", [\"f\", \"g\"], \"k\"], \"l\"], \"m\", \"n\"]\n",
    "list1[2][1][2].extend([\"h\" ,\"i\" ,\"j\"])\n",
    "print(list1)"
   ]
  },
  {
   "cell_type": "code",
   "execution_count": 27,
   "id": "b1f9820c",
   "metadata": {},
   "outputs": [
    {
     "name": "stdout",
     "output_type": "stream",
     "text": [
      "[5, 10, 15, 200, 25, 50, 20]\n"
     ]
    }
   ],
   "source": [
    "list1 = [5, 10, 15, 20, 25, 50, 20]\n",
    "index = list1.index(20)\n",
    "list1[index] = 200\n",
    "print(list1)"
   ]
  },
  {
   "cell_type": "code",
   "execution_count": null,
   "id": "2b0ee7a4",
   "metadata": {},
   "outputs": [],
   "source": [
    "#In the below dictionary contain Player name and game information, write a python code to print only cricket players from the dictionary\n"
   ]
  },
  {
   "cell_type": "code",
   "execution_count": 45,
   "id": "b35c46c9",
   "metadata": {},
   "outputs": [
    {
     "name": "stdout",
     "output_type": "stream",
     "text": [
      "Sachin\n",
      "Rahul\n"
     ]
    }
   ],
   "source": [
    "Player_game={'Sachin':'Cricket', 'Rahul': 'Cricket', 'Messi': 'Football', 'Federer': 'Tennis', 'Anand': 'Chess'}\n",
    "for x,y in Player_game.items():\n",
    "    if y=='Cricket':\n",
    "        print(x)"
   ]
  },
  {
   "cell_type": "code",
   "execution_count": 37,
   "id": "5a48fc6e",
   "metadata": {},
   "outputs": [
    {
     "name": "stdout",
     "output_type": "stream",
     "text": [
      "40\n"
     ]
    }
   ],
   "source": [
    "list1 = [12, 15, 3, 10]\n",
    "s=[i for i in list1]\n",
    "print(sum(s))\n"
   ]
  },
  {
   "cell_type": "code",
   "execution_count": 40,
   "id": "74bc5a08",
   "metadata": {},
   "outputs": [
    {
     "name": "stdout",
     "output_type": "stream",
     "text": [
      "Sum of all elements in given list:  51\n"
     ]
    }
   ],
   "source": [
    "List1= [1,2,4,5,10,20,4,5]\n",
    "total = sum(List1)\n",
    "print(\"Sum of all elements in given list: \", total)"
   ]
  },
  {
   "cell_type": "code",
   "execution_count": null,
   "id": "f5e8a52f",
   "metadata": {},
   "outputs": [],
   "source": []
  }
 ],
 "metadata": {
  "kernelspec": {
   "display_name": "Python 3 (ipykernel)",
   "language": "python",
   "name": "python3"
  },
  "language_info": {
   "codemirror_mode": {
    "name": "ipython",
    "version": 3
   },
   "file_extension": ".py",
   "mimetype": "text/x-python",
   "name": "python",
   "nbconvert_exporter": "python",
   "pygments_lexer": "ipython3",
   "version": "3.11.4"
  }
 },
 "nbformat": 4,
 "nbformat_minor": 5
}
