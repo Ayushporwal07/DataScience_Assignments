{
 "cells": [
  {
   "cell_type": "code",
   "execution_count": 1,
   "id": "309d7a78",
   "metadata": {},
   "outputs": [],
   "source": [
    "1: Given a Python list you should be able to display Python list in the following order\n"
   ]
  },
  {
   "cell_type": "code",
   "execution_count": 61,
   "id": "493a9e8f",
   "metadata": {},
   "outputs": [],
   "source": [
    "aLsit = [100, 200, 300, 400, 500]\n"
   ]
  },
  {
   "cell_type": "code",
   "execution_count": 3,
   "id": "0060da1b",
   "metadata": {},
   "outputs": [
    {
     "data": {
      "text/plain": [
       "[500, 400, 300, 200, 100]"
      ]
     },
     "execution_count": 3,
     "metadata": {},
     "output_type": "execute_result"
    }
   ],
   "source": [
    "aLsit[::-1]"
   ]
  },
  {
   "cell_type": "code",
   "execution_count": null,
   "id": "84985808",
   "metadata": {},
   "outputs": [],
   "source": []
  },
  {
   "cell_type": "code",
   "execution_count": null,
   "id": "bf46e5ac",
   "metadata": {},
   "outputs": [],
   "source": [
    "2: Concatenate two lists index-wise"
   ]
  },
  {
   "cell_type": "code",
   "execution_count": 8,
   "id": "bb17961d",
   "metadata": {},
   "outputs": [
    {
     "name": "stdout",
     "output_type": "stream",
     "text": [
      "['MY', 'name', 'is', 'kelly']\n"
     ]
    }
   ],
   "source": [
    "list1 = [\"M\", \"na\", \"i\", \"ke\"]\n",
    "list2 = [\"Y\",\"me\",\"s\",\"lly\"]\n",
    "list3 = []\n",
    "for i in range (len(list1)):\n",
    "    list3.append(list1[i]+list2[i])\n",
    "print(list3)"
   ]
  },
  {
   "cell_type": "code",
   "execution_count": null,
   "id": "cabbabb5",
   "metadata": {},
   "outputs": [],
   "source": []
  },
  {
   "cell_type": "code",
   "execution_count": null,
   "id": "739477b6",
   "metadata": {},
   "outputs": [],
   "source": [
    "3: Given a Python list. Turn every item of a list into its square\n",
    "aList = [1, 2, 3, 4, 5, 6, 7]"
   ]
  },
  {
   "cell_type": "code",
   "execution_count": 3,
   "id": "281da771",
   "metadata": {},
   "outputs": [
    {
     "name": "stdout",
     "output_type": "stream",
     "text": [
      "[1, 4, 9, 16, 25, 36, 49]\n"
     ]
    }
   ],
   "source": [
    "aList = [1, 2, 3, 4, 5, 6, 7]\n",
    "aLsit=[int(aList[i])**2 for i in range(len(aList))]\n",
    "print(aLsit)"
   ]
  },
  {
   "cell_type": "code",
   "execution_count": null,
   "id": "d98ff0cd",
   "metadata": {},
   "outputs": [],
   "source": []
  },
  {
   "cell_type": "code",
   "execution_count": 21,
   "id": "a22fa0ea",
   "metadata": {},
   "outputs": [
    {
     "name": "stdout",
     "output_type": "stream",
     "text": [
      "['Hello Dear', 'Hello Sir', 'take Dear', 'take Sir']\n"
     ]
    }
   ],
   "source": [
    "list1 = [\"Hello \", \"take \"]\n",
    "list2 = [\"Dear\", \"Sir\"]\n",
    "list3 = [ x+y for x in list1 for y in list2]\n",
    "print(list3)\n"
   ]
  },
  {
   "cell_type": "code",
   "execution_count": null,
   "id": "7abddf4a",
   "metadata": {},
   "outputs": [],
   "source": []
  },
  {
   "cell_type": "code",
   "execution_count": null,
   "id": "e1abd58d",
   "metadata": {},
   "outputs": [],
   "source": [
    "5: Given a two Python list. Iterate both lists simultaneously such that list1 should\n",
    "display item in original order and list2 in reverse order"
   ]
  },
  {
   "cell_type": "code",
   "execution_count": 10,
   "id": "46ed6180",
   "metadata": {},
   "outputs": [],
   "source": [
    "list1 = [10, 20, 30, 40]\n",
    "list2 = [100, 200, 300, 400]\n",
    "for i in range (0,4):\n",
    "    for j in range(-1,-5):\n",
    "        print(i)"
   ]
  },
  {
   "cell_type": "code",
   "execution_count": null,
   "id": "f5c90ed9",
   "metadata": {},
   "outputs": [],
   "source": []
  },
  {
   "cell_type": "code",
   "execution_count": null,
   "id": "f6916b0f",
   "metadata": {},
   "outputs": [],
   "source": [
    "6: Remove empty strings from the list of strings"
   ]
  },
  {
   "cell_type": "code",
   "execution_count": 40,
   "id": "8db2cf08",
   "metadata": {},
   "outputs": [
    {
     "name": "stdout",
     "output_type": "stream",
     "text": [
      "['Mike', 'Emma', 'Kelly', 'Brad']\n"
     ]
    }
   ],
   "source": [
    "list1 = [\"Mike\", \"\", \"Emma\", \"Kelly\", \"\", \"Brad\"]\n",
    "while \"\" in list1:\n",
    "    list1.remove(\"\")\n",
    "print(list1)"
   ]
  },
  {
   "cell_type": "code",
   "execution_count": null,
   "id": "cc534d1e",
   "metadata": {},
   "outputs": [],
   "source": []
  },
  {
   "cell_type": "code",
   "execution_count": null,
   "id": "7701ab46",
   "metadata": {},
   "outputs": [],
   "source": [
    "7: Add item 7000 after 6000 in the following Python List"
   ]
  },
  {
   "cell_type": "code",
   "execution_count": 46,
   "id": "389be6a1",
   "metadata": {},
   "outputs": [
    {
     "name": "stdout",
     "output_type": "stream",
     "text": [
      "[10, 20, [300, 400, [5000, 6000, 7000], 500], 30, 40]\n"
     ]
    }
   ],
   "source": [
    "list1 = [10, 20, [300, 400, [5000, 6000], 500], 30, 40]\n",
    "list1[2][2].append(7000)\n",
    "print(list1)"
   ]
  },
  {
   "cell_type": "code",
   "execution_count": null,
   "id": "0cadaf97",
   "metadata": {},
   "outputs": [],
   "source": []
  },
  {
   "cell_type": "code",
   "execution_count": null,
   "id": "f65768a6",
   "metadata": {},
   "outputs": [],
   "source": [
    "8: Given a nested list extend it with adding sub list [\"h\", \"i\", \"j\"] in a such a way\n",
    "that it will look like the following list"
   ]
  },
  {
   "cell_type": "code",
   "execution_count": null,
   "id": "301ff660",
   "metadata": {},
   "outputs": [],
   "source": [
    "list1 = [\"a\", \"b\", [\"c\", [\"d\", \"e\", [\"f\", \"g\"], \"k\"], \"l\"], \"m\", \"n\"]\n",
    "\n",
    "# sub list to add\n",
    "sub_list = [\"h\", \"i\", \"j\"]"
   ]
  },
  {
   "cell_type": "code",
   "execution_count": 50,
   "id": "53aa6fcf",
   "metadata": {},
   "outputs": [
    {
     "name": "stdout",
     "output_type": "stream",
     "text": [
      "['a', 'b', ['c', ['d', 'e', ['f', 'g', 'h', 'i', 'j'], 'k'], 'l'], 'm', 'n']\n"
     ]
    }
   ],
   "source": [
    "list1 = [\"a\", \"b\", [\"c\", [\"d\", \"e\", [\"f\", \"g\"], \"k\"], \"l\"], \"m\", \"n\"]\n",
    "list1[2][1][2].extend([\"h\", \"i\", \"j\"])\n",
    "print(list1)"
   ]
  },
  {
   "cell_type": "code",
   "execution_count": null,
   "id": "f97943b6",
   "metadata": {},
   "outputs": [],
   "source": []
  },
  {
   "cell_type": "code",
   "execution_count": null,
   "id": "dd475aad",
   "metadata": {},
   "outputs": [],
   "source": [
    "9: Given a Python list, find value 20 in the list, and if it is present, replace it with 200.\n",
    "Only update the first occurrence of a value"
   ]
  },
  {
   "cell_type": "code",
   "execution_count": 56,
   "id": "15ed7bbe",
   "metadata": {},
   "outputs": [
    {
     "name": "stdout",
     "output_type": "stream",
     "text": [
      "[5, 10, 15, 200, 25, 50, 20]\n"
     ]
    }
   ],
   "source": [
    "list1 = [5, 10, 15, 20, 25, 50, 20]\n",
    "index = list1.index(20)\n",
    "list1[index] = 200\n",
    "print(list1)"
   ]
  },
  {
   "cell_type": "code",
   "execution_count": null,
   "id": "78ec2a52",
   "metadata": {},
   "outputs": [],
   "source": []
  },
  {
   "cell_type": "code",
   "execution_count": null,
   "id": "cbd1aa6b",
   "metadata": {},
   "outputs": [],
   "source": [
    "10: Given a Python list, remove all occurrence of 20 from the list"
   ]
  },
  {
   "cell_type": "code",
   "execution_count": 60,
   "id": "54ea391d",
   "metadata": {},
   "outputs": [
    {
     "name": "stdout",
     "output_type": "stream",
     "text": [
      "[5, 15, 25, 50]\n"
     ]
    }
   ],
   "source": [
    "list1 = [5, 20, 15, 20, 25, 50, 20]\n",
    "while 20 in list1:\n",
    "    list1.remove(20)\n",
    "print(list1)"
   ]
  },
  {
   "cell_type": "code",
   "execution_count": null,
   "id": "d4730a02",
   "metadata": {},
   "outputs": [],
   "source": []
  },
  {
   "cell_type": "code",
   "execution_count": null,
   "id": "8b19f5b0",
   "metadata": {},
   "outputs": [],
   "source": []
  }
 ],
 "metadata": {
  "kernelspec": {
   "display_name": "Python 3 (ipykernel)",
   "language": "python",
   "name": "python3"
  },
  "language_info": {
   "codemirror_mode": {
    "name": "ipython",
    "version": 3
   },
   "file_extension": ".py",
   "mimetype": "text/x-python",
   "name": "python",
   "nbconvert_exporter": "python",
   "pygments_lexer": "ipython3",
   "version": "3.11.4"
  }
 },
 "nbformat": 4,
 "nbformat_minor": 5
}
